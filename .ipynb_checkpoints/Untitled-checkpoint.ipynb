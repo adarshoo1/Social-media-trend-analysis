{
 "cells": [
  {
   "cell_type": "markdown",
   "id": "1e13f7fe-ae52-4a8e-81e2-7e72b7604df8",
   "metadata": {},
   "source": [
    "# Viral_Social_Media_Trends"
   ]
  },
  {
   "cell_type": "code",
   "execution_count": 1,
   "id": "8ae0cc00-317d-4667-80c5-0f70a76e0ddf",
   "metadata": {},
   "outputs": [],
   "source": [
    "# importing all libraries"
   ]
  },
  {
   "cell_type": "code",
   "execution_count": 2,
   "id": "fb569db6-537b-4781-a772-06d3910b91bf",
   "metadata": {},
   "outputs": [],
   "source": [
    "import pandas as pd\n",
    "import numpy as np\n",
    "import matplotlib.pyplot as plt\n",
    "import seaborn as sns\n",
    "import warnings\n",
    "warnings.filterwarnings(\"ignore\")\n",
    "\n",
    "\n",
    "from sklearn.preprocessing import LabelEncoder\n",
    "from sklearn.preprocessing import StandardScaler\n",
    "\n",
    "from sklearn.model_selection import train_test_split\n",
    "from sklearn.ensemble import RandomForestClassifier\n",
    "from sklearn.metrics import classification_report, confusion_matrix\n",
    " "
   ]
  },
  {
   "cell_type": "markdown",
   "id": "b5aee258-0de8-44b0-b638-593fc88a4f33",
   "metadata": {},
   "source": [
    "## Importing dataset into library"
   ]
  },
  {
   "cell_type": "code",
   "execution_count": 3,
   "id": "cbcec39b-3119-4d9b-a2ec-b66289891a5b",
   "metadata": {},
   "outputs": [],
   "source": [
    "df=pd.read_csv(\"Viral_Social_Media_Trends.csv\")"
   ]
  },
  {
   "cell_type": "code",
   "execution_count": 4,
   "id": "575024eb-cc14-4676-bd71-bc811cc6ba2f",
   "metadata": {},
   "outputs": [
    {
     "data": {
      "text/html": [
       "<div>\n",
       "<style scoped>\n",
       "    .dataframe tbody tr th:only-of-type {\n",
       "        vertical-align: middle;\n",
       "    }\n",
       "\n",
       "    .dataframe tbody tr th {\n",
       "        vertical-align: top;\n",
       "    }\n",
       "\n",
       "    .dataframe thead th {\n",
       "        text-align: right;\n",
       "    }\n",
       "</style>\n",
       "<table border=\"1\" class=\"dataframe\">\n",
       "  <thead>\n",
       "    <tr style=\"text-align: right;\">\n",
       "      <th></th>\n",
       "      <th>Post_ID</th>\n",
       "      <th>Platform</th>\n",
       "      <th>Hashtag</th>\n",
       "      <th>Content_Type</th>\n",
       "      <th>Region</th>\n",
       "      <th>Views</th>\n",
       "      <th>Likes</th>\n",
       "      <th>Shares</th>\n",
       "      <th>Comments</th>\n",
       "      <th>Engagement_Level</th>\n",
       "    </tr>\n",
       "  </thead>\n",
       "  <tbody>\n",
       "    <tr>\n",
       "      <th>0</th>\n",
       "      <td>Post_1</td>\n",
       "      <td>TikTok</td>\n",
       "      <td>#Challenge</td>\n",
       "      <td>Video</td>\n",
       "      <td>UK</td>\n",
       "      <td>4163464</td>\n",
       "      <td>339431</td>\n",
       "      <td>53135</td>\n",
       "      <td>19346</td>\n",
       "      <td>High</td>\n",
       "    </tr>\n",
       "    <tr>\n",
       "      <th>1</th>\n",
       "      <td>Post_2</td>\n",
       "      <td>Instagram</td>\n",
       "      <td>#Education</td>\n",
       "      <td>Shorts</td>\n",
       "      <td>India</td>\n",
       "      <td>4155940</td>\n",
       "      <td>215240</td>\n",
       "      <td>65860</td>\n",
       "      <td>27239</td>\n",
       "      <td>Medium</td>\n",
       "    </tr>\n",
       "    <tr>\n",
       "      <th>2</th>\n",
       "      <td>Post_3</td>\n",
       "      <td>Twitter</td>\n",
       "      <td>#Challenge</td>\n",
       "      <td>Video</td>\n",
       "      <td>Brazil</td>\n",
       "      <td>3666211</td>\n",
       "      <td>327143</td>\n",
       "      <td>39423</td>\n",
       "      <td>36223</td>\n",
       "      <td>Medium</td>\n",
       "    </tr>\n",
       "    <tr>\n",
       "      <th>3</th>\n",
       "      <td>Post_4</td>\n",
       "      <td>YouTube</td>\n",
       "      <td>#Education</td>\n",
       "      <td>Shorts</td>\n",
       "      <td>Australia</td>\n",
       "      <td>917951</td>\n",
       "      <td>127125</td>\n",
       "      <td>11687</td>\n",
       "      <td>36806</td>\n",
       "      <td>Low</td>\n",
       "    </tr>\n",
       "    <tr>\n",
       "      <th>4</th>\n",
       "      <td>Post_5</td>\n",
       "      <td>TikTok</td>\n",
       "      <td>#Dance</td>\n",
       "      <td>Post</td>\n",
       "      <td>Brazil</td>\n",
       "      <td>64866</td>\n",
       "      <td>171361</td>\n",
       "      <td>69581</td>\n",
       "      <td>6376</td>\n",
       "      <td>Medium</td>\n",
       "    </tr>\n",
       "  </tbody>\n",
       "</table>\n",
       "</div>"
      ],
      "text/plain": [
       "  Post_ID   Platform     Hashtag Content_Type     Region    Views   Likes  \\\n",
       "0  Post_1     TikTok  #Challenge        Video         UK  4163464  339431   \n",
       "1  Post_2  Instagram  #Education       Shorts      India  4155940  215240   \n",
       "2  Post_3    Twitter  #Challenge        Video     Brazil  3666211  327143   \n",
       "3  Post_4    YouTube  #Education       Shorts  Australia   917951  127125   \n",
       "4  Post_5     TikTok      #Dance         Post     Brazil    64866  171361   \n",
       "\n",
       "   Shares  Comments Engagement_Level  \n",
       "0   53135     19346             High  \n",
       "1   65860     27239           Medium  \n",
       "2   39423     36223           Medium  \n",
       "3   11687     36806              Low  \n",
       "4   69581      6376           Medium  "
      ]
     },
     "execution_count": 4,
     "metadata": {},
     "output_type": "execute_result"
    }
   ],
   "source": [
    "df.head()"
   ]
  },
  {
   "cell_type": "code",
   "execution_count": 5,
   "id": "76b6550d-1751-4715-a7b4-d451ad136656",
   "metadata": {},
   "outputs": [
    {
     "data": {
      "text/html": [
       "<div>\n",
       "<style scoped>\n",
       "    .dataframe tbody tr th:only-of-type {\n",
       "        vertical-align: middle;\n",
       "    }\n",
       "\n",
       "    .dataframe tbody tr th {\n",
       "        vertical-align: top;\n",
       "    }\n",
       "\n",
       "    .dataframe thead th {\n",
       "        text-align: right;\n",
       "    }\n",
       "</style>\n",
       "<table border=\"1\" class=\"dataframe\">\n",
       "  <thead>\n",
       "    <tr style=\"text-align: right;\">\n",
       "      <th></th>\n",
       "      <th>Post_ID</th>\n",
       "      <th>Platform</th>\n",
       "      <th>Hashtag</th>\n",
       "      <th>Content_Type</th>\n",
       "      <th>Region</th>\n",
       "      <th>Views</th>\n",
       "      <th>Likes</th>\n",
       "      <th>Shares</th>\n",
       "      <th>Comments</th>\n",
       "      <th>Engagement_Level</th>\n",
       "    </tr>\n",
       "  </thead>\n",
       "  <tbody>\n",
       "    <tr>\n",
       "      <th>4995</th>\n",
       "      <td>Post_4996</td>\n",
       "      <td>YouTube</td>\n",
       "      <td>#Education</td>\n",
       "      <td>Video</td>\n",
       "      <td>Japan</td>\n",
       "      <td>4258236</td>\n",
       "      <td>381509</td>\n",
       "      <td>59209</td>\n",
       "      <td>4674</td>\n",
       "      <td>High</td>\n",
       "    </tr>\n",
       "    <tr>\n",
       "      <th>4996</th>\n",
       "      <td>Post_4997</td>\n",
       "      <td>Instagram</td>\n",
       "      <td>#Education</td>\n",
       "      <td>Video</td>\n",
       "      <td>UK</td>\n",
       "      <td>4841525</td>\n",
       "      <td>166266</td>\n",
       "      <td>54841</td>\n",
       "      <td>4832</td>\n",
       "      <td>Medium</td>\n",
       "    </tr>\n",
       "    <tr>\n",
       "      <th>4997</th>\n",
       "      <td>Post_4998</td>\n",
       "      <td>YouTube</td>\n",
       "      <td>#Fashion</td>\n",
       "      <td>Shorts</td>\n",
       "      <td>USA</td>\n",
       "      <td>2004080</td>\n",
       "      <td>32401</td>\n",
       "      <td>75229</td>\n",
       "      <td>33875</td>\n",
       "      <td>Low</td>\n",
       "    </tr>\n",
       "    <tr>\n",
       "      <th>4998</th>\n",
       "      <td>Post_4999</td>\n",
       "      <td>Instagram</td>\n",
       "      <td>#Gaming</td>\n",
       "      <td>Shorts</td>\n",
       "      <td>Canada</td>\n",
       "      <td>2221665</td>\n",
       "      <td>46996</td>\n",
       "      <td>12954</td>\n",
       "      <td>42832</td>\n",
       "      <td>Low</td>\n",
       "    </tr>\n",
       "    <tr>\n",
       "      <th>4999</th>\n",
       "      <td>Post_5000</td>\n",
       "      <td>Instagram</td>\n",
       "      <td>#Fashion</td>\n",
       "      <td>Reel</td>\n",
       "      <td>Japan</td>\n",
       "      <td>2224007</td>\n",
       "      <td>72744</td>\n",
       "      <td>29945</td>\n",
       "      <td>46381</td>\n",
       "      <td>Low</td>\n",
       "    </tr>\n",
       "  </tbody>\n",
       "</table>\n",
       "</div>"
      ],
      "text/plain": [
       "        Post_ID   Platform     Hashtag Content_Type  Region    Views   Likes  \\\n",
       "4995  Post_4996    YouTube  #Education        Video   Japan  4258236  381509   \n",
       "4996  Post_4997  Instagram  #Education        Video      UK  4841525  166266   \n",
       "4997  Post_4998    YouTube    #Fashion       Shorts     USA  2004080   32401   \n",
       "4998  Post_4999  Instagram     #Gaming       Shorts  Canada  2221665   46996   \n",
       "4999  Post_5000  Instagram    #Fashion         Reel   Japan  2224007   72744   \n",
       "\n",
       "      Shares  Comments Engagement_Level  \n",
       "4995   59209      4674             High  \n",
       "4996   54841      4832           Medium  \n",
       "4997   75229     33875              Low  \n",
       "4998   12954     42832              Low  \n",
       "4999   29945     46381              Low  "
      ]
     },
     "execution_count": 5,
     "metadata": {},
     "output_type": "execute_result"
    }
   ],
   "source": [
    "df.tail()"
   ]
  },
  {
   "cell_type": "code",
   "execution_count": 6,
   "id": "4c5d191f-c9eb-4286-bc0a-915b337641a7",
   "metadata": {},
   "outputs": [
    {
     "data": {
      "text/html": [
       "<div>\n",
       "<style scoped>\n",
       "    .dataframe tbody tr th:only-of-type {\n",
       "        vertical-align: middle;\n",
       "    }\n",
       "\n",
       "    .dataframe tbody tr th {\n",
       "        vertical-align: top;\n",
       "    }\n",
       "\n",
       "    .dataframe thead th {\n",
       "        text-align: right;\n",
       "    }\n",
       "</style>\n",
       "<table border=\"1\" class=\"dataframe\">\n",
       "  <thead>\n",
       "    <tr style=\"text-align: right;\">\n",
       "      <th></th>\n",
       "      <th>Post_ID</th>\n",
       "      <th>Platform</th>\n",
       "      <th>Hashtag</th>\n",
       "      <th>Content_Type</th>\n",
       "      <th>Region</th>\n",
       "      <th>Views</th>\n",
       "      <th>Likes</th>\n",
       "      <th>Shares</th>\n",
       "      <th>Comments</th>\n",
       "      <th>Engagement_Level</th>\n",
       "    </tr>\n",
       "  </thead>\n",
       "  <tbody>\n",
       "    <tr>\n",
       "      <th>1263</th>\n",
       "      <td>Post_1264</td>\n",
       "      <td>Twitter</td>\n",
       "      <td>#Comedy</td>\n",
       "      <td>Video</td>\n",
       "      <td>USA</td>\n",
       "      <td>3356274</td>\n",
       "      <td>322024</td>\n",
       "      <td>4474</td>\n",
       "      <td>33051</td>\n",
       "      <td>High</td>\n",
       "    </tr>\n",
       "    <tr>\n",
       "      <th>4751</th>\n",
       "      <td>Post_4752</td>\n",
       "      <td>YouTube</td>\n",
       "      <td>#Music</td>\n",
       "      <td>Tweet</td>\n",
       "      <td>India</td>\n",
       "      <td>4962798</td>\n",
       "      <td>142287</td>\n",
       "      <td>79299</td>\n",
       "      <td>31575</td>\n",
       "      <td>High</td>\n",
       "    </tr>\n",
       "    <tr>\n",
       "      <th>2231</th>\n",
       "      <td>Post_2232</td>\n",
       "      <td>YouTube</td>\n",
       "      <td>#Fitness</td>\n",
       "      <td>Video</td>\n",
       "      <td>Brazil</td>\n",
       "      <td>3371495</td>\n",
       "      <td>283970</td>\n",
       "      <td>78225</td>\n",
       "      <td>32830</td>\n",
       "      <td>Medium</td>\n",
       "    </tr>\n",
       "    <tr>\n",
       "      <th>3635</th>\n",
       "      <td>Post_3636</td>\n",
       "      <td>YouTube</td>\n",
       "      <td>#Fitness</td>\n",
       "      <td>Tweet</td>\n",
       "      <td>Japan</td>\n",
       "      <td>636960</td>\n",
       "      <td>147410</td>\n",
       "      <td>83963</td>\n",
       "      <td>46376</td>\n",
       "      <td>Low</td>\n",
       "    </tr>\n",
       "    <tr>\n",
       "      <th>4271</th>\n",
       "      <td>Post_4272</td>\n",
       "      <td>YouTube</td>\n",
       "      <td>#Viral</td>\n",
       "      <td>Reel</td>\n",
       "      <td>UK</td>\n",
       "      <td>4014231</td>\n",
       "      <td>131648</td>\n",
       "      <td>19628</td>\n",
       "      <td>38051</td>\n",
       "      <td>High</td>\n",
       "    </tr>\n",
       "  </tbody>\n",
       "</table>\n",
       "</div>"
      ],
      "text/plain": [
       "        Post_ID Platform   Hashtag Content_Type  Region    Views   Likes  \\\n",
       "1263  Post_1264  Twitter   #Comedy        Video     USA  3356274  322024   \n",
       "4751  Post_4752  YouTube    #Music        Tweet   India  4962798  142287   \n",
       "2231  Post_2232  YouTube  #Fitness        Video  Brazil  3371495  283970   \n",
       "3635  Post_3636  YouTube  #Fitness        Tweet   Japan   636960  147410   \n",
       "4271  Post_4272  YouTube    #Viral         Reel      UK  4014231  131648   \n",
       "\n",
       "      Shares  Comments Engagement_Level  \n",
       "1263    4474     33051             High  \n",
       "4751   79299     31575             High  \n",
       "2231   78225     32830           Medium  \n",
       "3635   83963     46376              Low  \n",
       "4271   19628     38051             High  "
      ]
     },
     "execution_count": 6,
     "metadata": {},
     "output_type": "execute_result"
    }
   ],
   "source": [
    "df.sample(5)"
   ]
  },
  {
   "cell_type": "code",
   "execution_count": 7,
   "id": "a26ea175-ec09-4f1d-8df2-4b87aa16fd1a",
   "metadata": {},
   "outputs": [
    {
     "data": {
      "text/plain": [
       "(5000, 10)"
      ]
     },
     "execution_count": 7,
     "metadata": {},
     "output_type": "execute_result"
    }
   ],
   "source": [
    "df.shape"
   ]
  },
  {
   "cell_type": "code",
   "execution_count": 8,
   "id": "8663d468-9e77-4de9-9df6-98226ead9eb0",
   "metadata": {},
   "outputs": [
    {
     "name": "stdout",
     "output_type": "stream",
     "text": [
      "<class 'pandas.core.frame.DataFrame'>\n",
      "RangeIndex: 5000 entries, 0 to 4999\n",
      "Data columns (total 10 columns):\n",
      " #   Column            Non-Null Count  Dtype \n",
      "---  ------            --------------  ----- \n",
      " 0   Post_ID           5000 non-null   object\n",
      " 1   Platform          5000 non-null   object\n",
      " 2   Hashtag           5000 non-null   object\n",
      " 3   Content_Type      5000 non-null   object\n",
      " 4   Region            5000 non-null   object\n",
      " 5   Views             5000 non-null   int64 \n",
      " 6   Likes             5000 non-null   int64 \n",
      " 7   Shares            5000 non-null   int64 \n",
      " 8   Comments          5000 non-null   int64 \n",
      " 9   Engagement_Level  5000 non-null   object\n",
      "dtypes: int64(4), object(6)\n",
      "memory usage: 390.8+ KB\n"
     ]
    }
   ],
   "source": [
    "df.info()"
   ]
  },
  {
   "cell_type": "code",
   "execution_count": 9,
   "id": "d8b90923-f5a1-43d8-8669-40fc28e19b60",
   "metadata": {},
   "outputs": [
    {
     "data": {
      "text/plain": [
       "Post_ID             0\n",
       "Platform            0\n",
       "Hashtag             0\n",
       "Content_Type        0\n",
       "Region              0\n",
       "Views               0\n",
       "Likes               0\n",
       "Shares              0\n",
       "Comments            0\n",
       "Engagement_Level    0\n",
       "dtype: int64"
      ]
     },
     "execution_count": 9,
     "metadata": {},
     "output_type": "execute_result"
    }
   ],
   "source": [
    "df.isnull().sum()"
   ]
  },
  {
   "cell_type": "code",
   "execution_count": 10,
   "id": "ea8a9d66-dbec-4478-be7d-68c02ac802f5",
   "metadata": {},
   "outputs": [
    {
     "data": {
      "text/plain": [
       "np.int64(0)"
      ]
     },
     "execution_count": 10,
     "metadata": {},
     "output_type": "execute_result"
    }
   ],
   "source": [
    "df.duplicated().sum()"
   ]
  },
  {
   "cell_type": "code",
   "execution_count": 11,
   "id": "864dd258-80db-4d8c-9b59-6cc645cb3986",
   "metadata": {},
   "outputs": [
    {
     "data": {
      "text/plain": [
       "Post_ID             5000\n",
       "Platform               4\n",
       "Hashtag               10\n",
       "Content_Type           6\n",
       "Region                 8\n",
       "Views               4996\n",
       "Likes               4972\n",
       "Shares              4877\n",
       "Comments            4735\n",
       "Engagement_Level       3\n",
       "dtype: int64"
      ]
     },
     "execution_count": 11,
     "metadata": {},
     "output_type": "execute_result"
    }
   ],
   "source": [
    "df.nunique()"
   ]
  },
  {
   "cell_type": "code",
   "execution_count": 12,
   "id": "436220de-2c32-435a-a2fd-5e8918187819",
   "metadata": {},
   "outputs": [
    {
     "data": {
      "text/html": [
       "<div>\n",
       "<style scoped>\n",
       "    .dataframe tbody tr th:only-of-type {\n",
       "        vertical-align: middle;\n",
       "    }\n",
       "\n",
       "    .dataframe tbody tr th {\n",
       "        vertical-align: top;\n",
       "    }\n",
       "\n",
       "    .dataframe thead th {\n",
       "        text-align: right;\n",
       "    }\n",
       "</style>\n",
       "<table border=\"1\" class=\"dataframe\">\n",
       "  <thead>\n",
       "    <tr style=\"text-align: right;\">\n",
       "      <th></th>\n",
       "      <th>Views</th>\n",
       "      <th>Likes</th>\n",
       "      <th>Shares</th>\n",
       "      <th>Comments</th>\n",
       "    </tr>\n",
       "  </thead>\n",
       "  <tbody>\n",
       "    <tr>\n",
       "      <th>count</th>\n",
       "      <td>5.000000e+03</td>\n",
       "      <td>5000.000000</td>\n",
       "      <td>5000.000000</td>\n",
       "      <td>5000.000000</td>\n",
       "    </tr>\n",
       "    <tr>\n",
       "      <th>mean</th>\n",
       "      <td>2.494066e+06</td>\n",
       "      <td>251475.029800</td>\n",
       "      <td>50519.562000</td>\n",
       "      <td>24888.393800</td>\n",
       "    </tr>\n",
       "    <tr>\n",
       "      <th>std</th>\n",
       "      <td>1.459490e+06</td>\n",
       "      <td>144349.583384</td>\n",
       "      <td>29066.362671</td>\n",
       "      <td>14284.504319</td>\n",
       "    </tr>\n",
       "    <tr>\n",
       "      <th>min</th>\n",
       "      <td>1.266000e+03</td>\n",
       "      <td>490.000000</td>\n",
       "      <td>52.000000</td>\n",
       "      <td>18.000000</td>\n",
       "    </tr>\n",
       "    <tr>\n",
       "      <th>25%</th>\n",
       "      <td>1.186207e+06</td>\n",
       "      <td>126892.250000</td>\n",
       "      <td>25029.000000</td>\n",
       "      <td>12305.250000</td>\n",
       "    </tr>\n",
       "    <tr>\n",
       "      <th>50%</th>\n",
       "      <td>2.497373e+06</td>\n",
       "      <td>249443.000000</td>\n",
       "      <td>50839.500000</td>\n",
       "      <td>25004.000000</td>\n",
       "    </tr>\n",
       "    <tr>\n",
       "      <th>75%</th>\n",
       "      <td>3.759781e+06</td>\n",
       "      <td>373970.750000</td>\n",
       "      <td>75774.250000</td>\n",
       "      <td>37072.750000</td>\n",
       "    </tr>\n",
       "    <tr>\n",
       "      <th>max</th>\n",
       "      <td>4.999430e+06</td>\n",
       "      <td>499922.000000</td>\n",
       "      <td>99978.000000</td>\n",
       "      <td>49993.000000</td>\n",
       "    </tr>\n",
       "  </tbody>\n",
       "</table>\n",
       "</div>"
      ],
      "text/plain": [
       "              Views          Likes        Shares      Comments\n",
       "count  5.000000e+03    5000.000000   5000.000000   5000.000000\n",
       "mean   2.494066e+06  251475.029800  50519.562000  24888.393800\n",
       "std    1.459490e+06  144349.583384  29066.362671  14284.504319\n",
       "min    1.266000e+03     490.000000     52.000000     18.000000\n",
       "25%    1.186207e+06  126892.250000  25029.000000  12305.250000\n",
       "50%    2.497373e+06  249443.000000  50839.500000  25004.000000\n",
       "75%    3.759781e+06  373970.750000  75774.250000  37072.750000\n",
       "max    4.999430e+06  499922.000000  99978.000000  49993.000000"
      ]
     },
     "execution_count": 12,
     "metadata": {},
     "output_type": "execute_result"
    }
   ],
   "source": [
    "df.describe()"
   ]
  },
  {
   "cell_type": "code",
   "execution_count": 13,
   "id": "facd0e80-0baa-4b96-99a3-a8964964521a",
   "metadata": {},
   "outputs": [
    {
     "data": {
      "image/png": "[encoded data removed]",
      "text/plain": [
       "<Figure size 1200x600 with 1 Axes>"
      ]
     },
     "metadata": {},
     "output_type": "display_data"
    }
   ],
   "source": [
    "plt.figure(figsize=(12, 6))\n",
    "df[['Views', 'Likes', 'Shares', 'Comments']].boxplot()\n",
    "plt.title(\"Boxplot: Views, Likes, Shares, Comments\")\n",
    "plt.show()"
   ]
  },
  {
   "cell_type": "code",
   "execution_count": 14,
   "id": "5c367995-ebc4-4618-a1a0-6f3dd6059ca7",
   "metadata": {},
   "outputs": [],
   "source": [
    "platform_counts = df['Platform'].value_counts()"
   ]
  },
  {
   "cell_type": "code",
   "execution_count": 15,
   "id": "2462e131-da4e-40c4-8627-93764c439797",
   "metadata": {},
   "outputs": [
    {
     "data": {
      "text/plain": [
       "Platform\n",
       "YouTube      1324\n",
       "TikTok       1260\n",
       "Instagram    1212\n",
       "Twitter      1204\n",
       "Name: count, dtype: int64"
      ]
     },
     "execution_count": 15,
     "metadata": {},
     "output_type": "execute_result"
    }
   ],
   "source": [
    "platform_counts"
   ]
  },
  {
   "cell_type": "code",
   "execution_count": 16,
   "id": "87c6f88c-d2d6-45ef-a472-0a1516696db1",
   "metadata": {},
   "outputs": [
    {
     "data": {
      "image/png": "[encoded data removed]",
      "text/plain": [
       "<Figure size 1000x500 with 1 Axes>"
      ]
     },
     "metadata": {},
     "output_type": "display_data"
    }
   ],
   "source": [
    "plt.figure(figsize=(10, 5))\n",
    "sns.countplot(y='Platform', data=df, order=platform_counts.index, palette='viridis')\n",
    "\n",
    "plt.title('Post Count by Platform')\n",
    "plt.xlabel('Number of Posts')\n",
    "plt.ylabel('Platform')\n",
    "plt.show()"
   ]
  },
  {
   "cell_type": "code",
   "execution_count": 17,
   "id": "970c952d-303e-4144-8bd8-222cfda2c07f",
   "metadata": {},
   "outputs": [
    {
     "data": {
      "text/plain": [
       "Hashtag\n",
       "#Fitness      536\n",
       "#Education    525\n",
       "#Challenge    507\n",
       "#Comedy       505\n",
       "#Dance        496\n",
       "#Music        493\n",
       "#Tech         491\n",
       "#Fashion      487\n",
       "#Viral        481\n",
       "#Gaming       479\n",
       "Name: count, dtype: int64"
      ]
     },
     "execution_count": 17,
     "metadata": {},
     "output_type": "execute_result"
    }
   ],
   "source": [
    "Hashtag_counts = df[\"Hashtag\"].value_counts()\n",
    "Hashtag_counts"
   ]
  },
  {
   "cell_type": "code",
   "execution_count": 18,
   "id": "7aac5d31-b18b-4473-9a69-3010f941b557",
   "metadata": {},
   "outputs": [
    {
     "data": {
      "image/png": "[encoded data removed]",
      "text/plain": [
       "<Figure size 1200x600 with 1 Axes>"
      ]
     },
     "metadata": {},
     "output_type": "display_data"
    }
   ],
   "source": [
    "plt.figure(figsize=(12, 6))\n",
    "plt.barh(Hashtag_counts.index, Hashtag_counts.values, color='skyblue')\n",
    "plt.title('Top 10 Hashtags')\n",
    "plt.xlabel('Number of Posts')\n",
    "plt.ylabel('Hashtag')\n",
    "plt.gca().invert_yaxis() \n",
    "plt.show()"
   ]
  },
  {
   "cell_type": "code",
   "execution_count": 19,
   "id": "faf5999a-37e1-4535-97fd-0758f04180e5",
   "metadata": {},
   "outputs": [
    {
     "data": {
      "text/plain": [
       "Region\n",
       "USA       677\n",
       "Canada    658\n",
       "UK        647\n",
       "Brazil    641\n",
       "India     617\n",
       "Name: count, dtype: int64"
      ]
     },
     "execution_count": 19,
     "metadata": {},
     "output_type": "execute_result"
    }
   ],
   "source": [
    "Region_counts = df[\"Region\"].value_counts().head(5)\n",
    "Region_counts"
   ]
  },
  {
   "cell_type": "code",
   "execution_count": 20,
   "id": "59354832-59e3-48da-9aca-8406a5c192da",
   "metadata": {},
   "outputs": [
    {
     "data": {
      "text/plain": [
       "array(['UK', 'India', 'Brazil', 'Australia', 'Japan', 'Germany', 'Canada',\n",
       "       'USA'], dtype=object)"
      ]
     },
     "execution_count": 20,
     "metadata": {},
     "output_type": "execute_result"
    }
   ],
   "source": [
    "df[\"Region\"].unique()"
   ]
  },
  {
   "cell_type": "code",
   "execution_count": 21,
   "id": "b9d7ab0e-fa2d-4d2c-9609-74930c4eeaf9",
   "metadata": {},
   "outputs": [
    {
     "data": {
      "image/png": "[encoded data removed]",
      "text/plain": [
       "<Figure size 1000x800 with 1 Axes>"
      ]
     },
     "metadata": {},
     "output_type": "display_data"
    }
   ],
   "source": [
    "plt.figure(figsize=(10, 8))\n",
    "plt.pie(Region_counts.values,labels=Region_counts.index,autopct='%1.1f%%',colors=plt.cm.Set3.colors)\n",
    "\n",
    "plt.title(\"Top 5 Regions\")\n",
    "plt.show()"
   ]
  },
  {
   "cell_type": "code",
   "execution_count": 22,
   "id": "9ad03aa6-3973-4561-b4d9-1428b1b730f8",
   "metadata": {},
   "outputs": [
    {
     "data": {
      "image/png": "[encoded data removed]",
      "text/plain": [
       "<Figure size 800x600 with 2 Axes>"
      ]
     },
     "metadata": {},
     "output_type": "display_data"
    }
   ],
   "source": [
    "plt.figure(figsize=(8, 6))\n",
    "sns.heatmap(df[['Views', 'Likes', 'Shares', 'Comments']].corr(), annot=True, cmap='coolwarm')\n",
    "plt.title(\"Correlation Heatmap\")\n",
    "plt.show()"
   ]
  },
  {
   "cell_type": "code",
   "execution_count": 23,
   "id": "274075f5-1ee1-491b-834a-ce999823317a",
   "metadata": {},
   "outputs": [
    {
     "name": "stdout",
     "output_type": "stream",
     "text": [
      "  Post_ID   Platform     Hashtag Content_Type     Region    Views   Likes  \\\n",
      "0  Post_1     TikTok  #Challenge        Video         UK  4163464  339431   \n",
      "1  Post_2  Instagram  #Education       Shorts      India  4155940  215240   \n",
      "2  Post_3    Twitter  #Challenge        Video     Brazil  3666211  327143   \n",
      "3  Post_4    YouTube  #Education       Shorts  Australia   917951  127125   \n",
      "4  Post_5     TikTok      #Dance         Post     Brazil    64866  171361   \n",
      "\n",
      "   Shares  Comments Engagement_Level  Engagement  EngagementRate  Is_Viral  \\\n",
      "0   53135     19346             High      411912        0.098935      True   \n",
      "1   65860     27239           Medium      308339        0.074192      True   \n",
      "2   39423     36223           Medium      402789        0.109865     False   \n",
      "3   11687     36806              Low      175618        0.191315     False   \n",
      "4   69581      6376           Medium      247318        3.812752     False   \n",
      "\n",
      "   HashtagLength    Platform_Region  Log_Views  \n",
      "0             10          TikTok_UK  15.241858  \n",
      "1             10    Instagram_India  15.240049  \n",
      "2             10     Twitter_Brazil  15.114670  \n",
      "3             10  YouTube_Australia  13.729900  \n",
      "4              6      TikTok_Brazil  11.080094  \n",
      "  Post_ID   Platform     Hashtag Content_Type     Region    Views   Likes  \\\n",
      "0  Post_1     TikTok  #Challenge        Video         UK  4163464  339431   \n",
      "1  Post_2  Instagram  #Education       Shorts      India  4155940  215240   \n",
      "2  Post_3    Twitter  #Challenge        Video     Brazil  3666211  327143   \n",
      "3  Post_4    YouTube  #Education       Shorts  Australia   917951  127125   \n",
      "4  Post_5     TikTok      #Dance         Post     Brazil    64866  171361   \n",
      "\n",
      "   Shares  Comments Engagement_Level  Engagement  EngagementRate  Is_Viral  \\\n",
      "0   53135     19346             High      411912        0.098935      True   \n",
      "1   65860     27239           Medium      308339        0.074192      True   \n",
      "2   39423     36223           Medium      402789        0.109865     False   \n",
      "3   11687     36806              Low      175618        0.191315     False   \n",
      "4   69581      6376           Medium      247318        3.812752     False   \n",
      "\n",
      "   HashtagLength    Platform_Region  Log_Views  \n",
      "0             10          TikTok_UK  15.241858  \n",
      "1             10    Instagram_India  15.240049  \n",
      "2             10     Twitter_Brazil  15.114670  \n",
      "3             10  YouTube_Australia  13.729900  \n",
      "4              6      TikTok_Brazil  11.080094  \n"
     ]
    }
   ],
   "source": [
    "\n",
    "# 1. Total Engagement\n",
    "df['Engagement'] = df['Likes'] + df['Shares'] + df['Comments']\n",
    "\n",
    "# 2. Engagement Rate\n",
    "df['EngagementRate'] = df['Engagement'] / df['Views']\n",
    "\n",
    "# 3. Viral flag\n",
    "df['Is_Viral'] = df['Views'] > 4_000_000\n",
    "\n",
    "# 4. Hashtag Length\n",
    "df['HashtagLength'] = df['Hashtag'].astype(str).apply(len)\n",
    "\n",
    "# 5. Platform + Region combo\n",
    "df['Platform_Region'] = df['Platform'] + \"_\" + df['Region']\n",
    "\n",
    "# 6. Log Views\n",
    "df['Log_Views'] = np.log1p(df['Views'])\n",
    "\n",
    "# See the new columns!\n",
    "print(df.head())\n",
    "import numpy as np\n",
    "\n",
    "# 1. Total Engagement\n",
    "df['Engagement'] = df['Likes'] + df['Shares'] + df['Comments']\n",
    "\n",
    "# 2. Engagement Rate\n",
    "df['EngagementRate'] = df['Engagement'] / df['Views']\n",
    "\n",
    "# 3. Viral flag\n",
    "df['Is_Viral'] = df['Views'] > 4_000_000\n",
    "\n",
    "# 4. Hashtag Length\n",
    "df['HashtagLength'] = df['Hashtag'].astype(str).apply(len)\n",
    "\n",
    "# 5. Platform + Region combo\n",
    "df['Platform_Region'] = df['Platform'] + \"_\" + df['Region']\n",
    "\n",
    "# 6. Log Views\n",
    "df['Log_Views'] = np.log1p(df['Views'])\n",
    "\n",
    "# See the new columns!\n",
    "print(df.head())\n",
    "\n"
   ]
  },
  {
   "cell_type": "code",
   "execution_count": 24,
   "id": "d140fb51-13de-4f3d-bdf2-ce353b86fb65",
   "metadata": {},
   "outputs": [],
   "source": [
    "# Target\n",
    "y = df['Platform']\n",
    "\n",
    "# Features (drop non-useful columns and Platform)\n",
    "X = df.drop(['Platform', 'PostID', 'Time', 'Text'], axis=1, errors='ignore')\n"
   ]
  },
  {
   "cell_type": "code",
   "execution_count": 25,
   "id": "7ddf9c47-1ad9-4515-b381-dc190a6f63b7",
   "metadata": {},
   "outputs": [],
   "source": [
    "X = pd.get_dummies(X, drop_first=True)\n"
   ]
  },
  {
   "cell_type": "code",
   "execution_count": 26,
   "id": "51f632db-f1bd-4a1b-bcf8-7ec5b9b33640",
   "metadata": {},
   "outputs": [],
   "source": [
    "X_train, X_test, y_train, y_test = train_test_split(X, y, test_size=0.2, random_state=42)\n"
   ]
  },
  {
   "cell_type": "code",
   "execution_count": 27,
   "id": "e0592177-a987-4766-9baa-2b75c95d7da2",
   "metadata": {},
   "outputs": [],
   "source": [
    "model = RandomForestClassifier(random_state=42)\n",
    "model.fit(X_train, y_train)\n",
    "\n",
    "y_pred = model.predict(X_test)\n"
   ]
  },
  {
   "cell_type": "code",
   "execution_count": 28,
   "id": "8d8dc70b-5ea8-4891-b607-f60b940b65d9",
   "metadata": {},
   "outputs": [
    {
     "name": "stdout",
     "output_type": "stream",
     "text": [
      "              precision    recall  f1-score   support\n",
      "\n",
      "   Instagram       1.00      0.99      0.99       213\n",
      "      TikTok       1.00      1.00      1.00       281\n",
      "     Twitter       1.00      1.00      1.00       240\n",
      "     YouTube       1.00      1.00      1.00       266\n",
      "\n",
      "    accuracy                           1.00      1000\n",
      "   macro avg       1.00      1.00      1.00      1000\n",
      "weighted avg       1.00      1.00      1.00      1000\n",
      "\n"
     ]
    },
    {
     "data": {
      "image/png": "[encoded data removed]",
      "text/plain": [
       "<Figure size 800x600 with 2 Axes>"
      ]
     },
     "metadata": {},
     "output_type": "display_data"
    }
   ],
   "source": [
    "# Classification report\n",
    "print(classification_report(y_test, y_pred))\n",
    "\n",
    "# Confusion matrix\n",
    "\n",
    "plt.figure(figsize=(8, 6))\n",
    "sns.heatmap(confusion_matrix(y_test, y_pred), annot=True, fmt='d', cmap='Blues',\n",
    "            xticklabels=model.classes_, yticklabels=model.classes_)\n",
    "plt.xlabel('Predicted')\n",
    "plt.ylabel('Actual')\n",
    "plt.title('Confusion Matrix - Platform Classification')\n",
    "plt.show()\n"
   ]
  },
  {
   "cell_type": "markdown",
   "id": "0ff8e696-e1e3-47ed-9907-226c6e1ca497",
   "metadata": {},
   "source": [
    "## Key Insights:\n",
    "High likes and shares often correlate with Instagram\n",
    "\n",
    "Certain regions are more active on specific platforms\n",
    "\n",
    "Engagement metrics strongly influence platform suitability\n",
    "\n"
   ]
  },
  {
   "cell_type": "code",
   "execution_count": null,
   "id": "29c1caf9-e2fd-4454-96c1-b6cda9022bb7",
   "metadata": {},
   "outputs": [],
   "source": []
  }
 ],
 "metadata": {
  "kernelspec": {
   "display_name": "Python 3 (ipykernel)",
   "language": "python",
   "name": "python3"
  },
  "language_info": {
   "codemirror_mode": {
    "name": "ipython",
    "version": 3
   },
   "file_extension": ".py",
   "mimetype": "text/x-python",
   "name": "python",
   "nbconvert_exporter": "python",
   "pygments_lexer": "ipython3",
   "version": "3.12.6"
  }
 },
 "nbformat": 4,
 "nbformat_minor": 5
}
